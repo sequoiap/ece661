{
 "cells": [
  {
   "cell_type": "markdown",
   "metadata": {},
   "source": [
    "# Telescopes\n",
    "\n",
    "Object and image are both at infinity (collimated light in, collimated light out).\n",
    "\n",
    "There are 2 main configurations: Kepler, and Galilean (see {numref}`refractivetelescopes-fig`).\n",
    "\n",
    "```{figure} ../../images/part3/refractive_telescopes.png\n",
    "---\n",
    "name: refractivetelescopes-fig\n",
    "---\n",
    "Kepler vs Galilean telescopes.\n",
    "```\n",
    "\n",
    "Since there is no focus, we will use angular magnification:\n",
    "\n",
    "\\begin{equation}\n",
    "    M_{ang} = \\frac{\\tan \\theta '}{\\tan \\theta} = - \\frac{F_1}{F_2}\n",
    "\\end{equation}\n",
    "\n",
    "Modern astronomical telescopes are actually really large cameras. The goal of a\n",
    "telescope is to separate two closely spaced, distant objects (such as two\n",
    "stars).\n",
    "\n",
    "Let's look at a circular aperture of an astronomical telescope. We'll model it \n",
    "as a single perfect lens.\n",
    "\n",
    "```{figure} ../../images/part3/perfectlens.svg\n",
    "---\n",
    "name: perfectlens-fig\n",
    "height: 200em\n",
    "---\n",
    "Single perfect lens.\n",
    "```\n",
    "\n",
    "At the focal plane:\n",
    "\n",
    "\\begin{align}\n",
    "    E(x,y) &= \\mathfrak{F} \\left. \\left\\{ \\mathrm{circ} \\left( \\frac{r}{D/2} \\right) \\right\\} \\right| _{f_r = r / \\lambda f} \\\\\n",
    "    &= E_0 \\left[ 2 \\frac{J_1 ( 2 \\pi \\frac{D}{2} f_x )}{ 2 \\pi \\frac{D}{2} f_x } \\right] \\\\\n",
    "    &= E_0 \\left[ 2 \\frac{J_1 ( 2 \\pi \\frac{D}{2} \\frac{r}{\\lambda f} )}{ 2 \\pi \\frac{D}{2} \\frac{r}{\\lambda f} } \\right]\n",
    "\\end{align}\n",
    "\n",
    "```{figure} ../../images/part3/telescopes1.png\n",
    "---\n",
    "name: telescopes1-fig\n",
    "height: 20em\n",
    "---\n",
    "```\n",
    "\n",
    "```{figure} ../../images/part3/telescopes2.png\n",
    "---\n",
    "name: telescopes2-fig\n",
    "---\n",
    "```\n",
    "\n",
    "```{figure} ../../images/part3/telescopes3.png\n",
    "---\n",
    "name: telescopes3-fig\n",
    "---\n",
    "```\n",
    "\n",
    "The irradiance pattern is\n",
    "\n",
    "\\begin{equation}\n",
    "    I = I_0 \\left[ 2 \\frac{ J_1 ( \\pi D \\frac{r}{\\lambda f} ) }{ \\pi D \\frac{r}{\\lambda f}  } \\right] ^2\n",
    "\\end{equation}\n"
   ]
  },
  {
   "cell_type": "code",
   "execution_count": null,
   "metadata": {},
   "outputs": [],
   "source": []
  },
  {
   "cell_type": "markdown",
   "metadata": {},
   "source": [
    "What is the diameter of the central lobe?\n",
    "\n",
    "$$\n",
    "    J_1(3.832) = 0\n",
    "$$\n",
    "\n",
    "$$ \n",
    "    \\frac{\\pi}{\\lambda} \\frac{D}{f} r = 3.832\n",
    "$$\n",
    "\n",
    "\\begin{align}\n",
    "    r &= 3.832 \\frac{\\lambda}{\\pi} \\frac{f}{D} \\\\\n",
    "    &= \\frac{3.832}{\\pi} \\lambda \\frac{f}{D} \\\\\n",
    "    d = 2 r &= 2 \\left( \\frac{3.832}{\\pi} \\right) \\lambda f_\\# \\\\\n",
    "    d &= 2.44 \\lambda f_\\#\n",
    "\\end{align}\n",
    "\n",
    "This is called the Airy Disk."
   ]
  },
  {
   "cell_type": "markdown",
   "metadata": {},
   "source": [
    "What if the incident beam has a different angle?\n",
    "\n",
    "Plane wave equation:\n",
    "\n",
    "\\begin{equation}\n",
    "    E_i = \\exp [ j k (\\sin \\theta y + \\cos \\theta z)]\n",
    "\\end{equation}\n",
    "\n",
    "If we use $E_i = \\exp [j k \\sin \\theta y] = \\exp [j 2 \\pi \\frac{\\sin \\theta}{\\lambda} y]:\n",
    "\n",
    "\\begin{equation}\n",
    "    E(x, y) = \\mathfrak{F} \\left. \\left\\{ \\exp[j k \\sin \\theta y] \\mathrm{circ} \\left( \\frac{r}{D / 2} \\right) \\right\\} \\right| _{f_r = r / \\lambda f} \\\\\n",
    "\\end{equation}\n",
    "\n",
    "The pattern is the same; it is just shifted by\n",
    "\n",
    "\\begin{align}\n",
    "    f_{x0} &= \\frac{\\sin \\theta}{y} \\\\\n",
    "    \\frac{y_0}{\\lambda f} &= \\frac{\\sin \\theta}{\\lambda} \\\\\n",
    "    y_0 &= \\sin \\theta f \\approx \\theta f\n",
    "\\end{align}\n",
    "\n",
    "This is the same as that predicted by the conjugate equation."
   ]
  },
  {
   "cell_type": "code",
   "execution_count": null,
   "metadata": {},
   "outputs": [],
   "source": []
  },
  {
   "cell_type": "markdown",
   "metadata": {},
   "source": [
    "Rayleigh Criteria\n",
    ": 2 incoherent point sources are \"barely resolved\" by a diffraction-limited system with a circular aperture when the center of the Airy disk of one point falls exactly on the first zero of the diffraction pattern.\n",
    "\n",
    "\\begin{align}\n",
    "    \\pi D \\frac{r}{\\lambda f} &= 3.83 \\\\  \n",
    "    r &= 1.22 \\lambda \\frac{f}{D} \\\\\n",
    "\\end{align}"
   ]
  },
  {
   "cell_type": "markdown",
   "metadata": {},
   "source": []
  }
 ],
 "metadata": {
  "interpreter": {
   "hash": "1e5aa43f0d996b212007e0653359935d560803e088169bddc54361870be89642"
  },
  "kernelspec": {
   "display_name": "Python 3.7.13 ('book')",
   "language": "python",
   "name": "python3"
  },
  "language_info": {
   "codemirror_mode": {
    "name": "ipython",
    "version": 3
   },
   "file_extension": ".py",
   "mimetype": "text/x-python",
   "name": "python",
   "nbconvert_exporter": "python",
   "pygments_lexer": "ipython3",
   "version": "3.7.13"
  },
  "orig_nbformat": 4
 },
 "nbformat": 4,
 "nbformat_minor": 2
}

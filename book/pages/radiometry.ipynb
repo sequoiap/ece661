{
 "cells": [
  {
   "attachments": {},
   "cell_type": "markdown",
   "metadata": {},
   "source": [
    "# Radiometry\n",
    "\n",
    "| Term | Symbol | Description | Equation | Units |\n",
    "|---|---|---|---|---|\n",
    "| Flux or Power | $\\Omega$ |  |  | Watts (lumens) |\n",
    "| Intensity | $I$ | Source power emitted per unit solid angle | $\\frac{d\\Phi}{d\\Omega}$ | W/sr (lm/sr=cd) |\n",
    "| Exitance | $M$ | Power emitted from a sourcer per unit area of the source | $\\frac{d\\Phi}{dA}$ | W/m^2 (lm/m^2) |\n",
    "| Irradiance | $E$ | Power falling on a unit target area | $\\frac{d\\Phi}{dA}$ | W/m^2 (lm/m^2) |\n",
    "| Radiance | $L$ | Source power per unit area per unit solid angle | $\\frac{d\\Phi}{d\\Omega dA}$ | W/m^2 sr (lm/m^2 sr) |\n",
    "\n",
    "Solid angle is a measure of the 2d arc on the surface of a sphere. It is similar to the length of an arc.\n",
    "\n",
    "$$\n",
    "    d\\theta = \\frac{\\text{length of an arc}}{r} \\mathrm{rad}\n",
    "$$\n",
    "\n",
    "For a whole circle, \n",
    "\n",
    "$$ \n",
    "    \\theta = \\frac{2 \\pi r}{r} = 2 \\pi \\ \\mathrm{rad}\n",
    "$$\n",
    "\n",
    "For a solid angle,\n",
    "\n",
    "$$\n",
    "    d\\Omega = \\frac{\\text{surface area of section}}{r^2} \\mathrm{steradians}\n",
    "$$\n",
    "\n",
    "For a whole sphere,\n",
    "\n",
    "$$\n",
    "    \\Omega = \\frac{4 \\pi r^2}{r^2} = 4 \\pi \\ \\mathrm{sr}\n",
    "$$\n",
    "\n",
    "[Radiometry examples.pdf](https://github.com/sms276/ece661/blob/master/book/_static/files/radiometery_examples.pdf)\n",
    "\n",
    "[Radiometry camera example.pdf](https://github.com/sms276/ece661/blob/master/book/_static/files/radiometery_camera_example.pdf)\n",
    "\n",
    "[Radiometry.pdf](https://github.com/sms276/ece661/blob/master/book/_static/files/radiometry.pdf)\n"
   ]
  },
  {
   "cell_type": "code",
   "execution_count": null,
   "metadata": {},
   "outputs": [],
   "source": []
  }
 ],
 "metadata": {
  "language_info": {
   "name": "python"
  },
  "orig_nbformat": 4
 },
 "nbformat": 4,
 "nbformat_minor": 2
}

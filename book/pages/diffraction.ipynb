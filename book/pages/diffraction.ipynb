{
 "cells": [
  {
   "attachments": {},
   "cell_type": "markdown",
   "metadata": {},
   "source": [
    "# Diffraction"
   ]
  },
  {
   "attachments": {},
   "cell_type": "markdown",
   "metadata": {},
   "source": [
    "[diffraction_integral.pdf](https://github.com/sms276/ece661/blob/master/book/_static/files/diffraction_integral.pdf)\n",
    "\n",
    "[goodman_diff_int.pdf](https://github.com/sms276/ece661/blob/master/book/_static/files/goodman_diff_int.pdf)\n",
    "\n",
    "[diff_approx.pdf](https://github.com/sms276/ece661/blob/master/book/_static/files/diff_approx.pdf)"
   ]
  },
  {
   "cell_type": "code",
   "execution_count": null,
   "metadata": {},
   "outputs": [],
   "source": []
  }
 ],
 "metadata": {
  "language_info": {
   "name": "python"
  },
  "orig_nbformat": 4
 },
 "nbformat": 4,
 "nbformat_minor": 2
}

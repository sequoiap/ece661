{
 "cells": [
  {
   "attachments": {},
   "cell_type": "markdown",
   "metadata": {},
   "source": [
    "# Prisms\n",
    "\n",
    "You can [download the pdf for this page](https://github.com/sms276/ece661/blob/master/book/_static/files/prism.pdf).\n",
    "\n",
    "## Ray optics\n",
    "\n",
    "Here's a taste of what ray optics is.\n",
    "\n",
    "![](https://github.com/sms276/ece661/blob/master/book/_static/images/lensdesign.jpg?raw=true)\n",
    "\n",
    "![](https://github.com/sms276/ece661/blob/master/book/_static/images/illumination.jpg?raw=true)\n",
    "\n",
    "![](https://github.com/sms276/ece661/blob/master/book/_static/images/illumination2.jpg?raw=true)\n",
    "\n",
    "![](https://github.com/sms276/ece661/blob/master/book/_static/images/artifact.jpg?raw=true)\n",
    "\n",
    "*Lens flare artifact.*\n",
    "\n",
    "![](https://github.com/sms276/ece661/blob/master/book/_static/images/lens_flare.png?raw=true)\n",
    "\n",
    "*Lens flare diagram.*\n",
    "\n",
    "## Prisms\n",
    "\n",
    "| Prism Type | Diagram |\n",
    "| --- | --- |\n",
    "| Dove | ![](https://raw.githubusercontent.com/sms276/ece661/master/book/_static/images/dove.jpg) |\n",
    "| Penta | ![](https://raw.githubusercontent.com/sms276/ece661/master/book/_static/images/penta.gif) |\n",
    "| Retro | ![](https://raw.githubusercontent.com/sms276/ece661/master/book/_static/images/retro.gif) |\n",
    "| Anamorph | ![](https://raw.githubusercontent.com/sms276/ece661/master/book/_static/images/anamorph.gif) |\n",
    "| Wedge | ![](https://raw.githubusercontent.com/sms276/ece661/master/book/_static/images/wedge.png) |"
   ]
  },
  {
   "attachments": {},
   "cell_type": "markdown",
   "metadata": {},
   "source": [
    "### Uses of prisms"
   ]
  },
  {
   "attachments": {},
   "cell_type": "markdown",
   "metadata": {},
   "source": [
    "#### Dispersion\n",
    "\n",
    "![](https://github.com/sms276/ece661/blob/master/book/_static/images/dispersion.png?raw=true)\n",
    "\n",
    "$$\n",
    "    \\theta = (n - 1) \\phi\n",
    "$$\n",
    "\n",
    "This is desperive because the refractive index is a function of wavelength,\n",
    "i.e. $n(\\lambda)$."
   ]
  },
  {
   "attachments": {},
   "cell_type": "markdown",
   "metadata": {},
   "source": [
    "#### Beam bending\n",
    "\n",
    "![beambending.png](https://github.com/sms276/ece661/blob/master/book/_static/images/beambending.png?raw=true)\n",
    "\n",
    "This is better than a mirror because total internal reflection (TIR) is \n",
    "wavelength independent."
   ]
  },
  {
   "attachments": {},
   "cell_type": "markdown",
   "metadata": {},
   "source": [
    "#### Retro-reflection\n",
    "\n",
    "![retroreflection.png](https://github.com/sms276/ece661/blob/master/book/_static/images/retroreflection.png?raw=true)"
   ]
  },
  {
   "attachments": {},
   "cell_type": "markdown",
   "metadata": {},
   "source": [
    "#### Image rotation\n",
    "\n",
    "![rotation.png](https://github.com/sms276/ece661/blob/master/book/_static/images/rotation.png?raw=true)\n",
    "\n",
    "![pentaprism.png](https://github.com/sms276/ece661/blob/master/book/_static/images/pentaprism.png?raw=true)\n",
    "\n",
    "![doveprism.png](https://github.com/sms276/ece661/blob/master/book/_static/images/doveprism.png?raw=true)"
   ]
  },
  {
   "attachments": {},
   "cell_type": "markdown",
   "metadata": {},
   "source": [
    "#### Beam scanning\n",
    "\n",
    "![beamscanning.png](https://github.com/sms276/ece661/blob/master/book/_static/images/beamscanning.png?raw=true)"
   ]
  },
  {
   "cell_type": "code",
   "execution_count": null,
   "metadata": {},
   "outputs": [],
   "source": []
  }
 ],
 "metadata": {
  "language_info": {
   "name": "python"
  },
  "orig_nbformat": 4
 },
 "nbformat": 4,
 "nbformat_minor": 2
}

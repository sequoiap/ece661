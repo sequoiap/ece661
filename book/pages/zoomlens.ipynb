{
 "cells": [
  {
   "attachments": {},
   "cell_type": "markdown",
   "metadata": {},
   "source": [
    "# Zoom Lenses and Afocals"
   ]
  },
  {
   "attachments": {},
   "cell_type": "markdown",
   "metadata": {},
   "source": [
    "## Zoom Lenses\n",
    "\n",
    "* https://www.premiumbeat.com/blog/how-to-use-zoom-lenses/\n",
    "* https://en.wikipedia.org/wiki/Zoom_lens"
   ]
  },
  {
   "attachments": {},
   "cell_type": "markdown",
   "metadata": {},
   "source": [
    "## Afocals (Beam Expander)\n",
    "\n",
    "Afocals are so called because neither the input nor the output comes to an\n",
    "image.\n",
    "\n",
    "![](https://github.com/sms276/ece661/blob/master/book/_static/images/afocal.png?raw=true)\n",
    "\n",
    "*A ray diagram for an afocal lens.*\n",
    "\n",
    "Beam expansion:\n",
    "\n",
    "$$\n",
    "    \\tan (\\theta_3) = \\frac{h_2}{f_1} \\approx \\theta_3\n",
    "$$ (bm1)\n",
    "\n",
    "$$\n",
    "    \\tan (\\theta_3) = \\frac{h_3}{f_2} \\approx \\theta_3\n",
    "$$ (bm2)\n",
    "\n",
    "$$\n",
    "    \\frac{h_3}{h_2} = \\frac{f_2}{f_1}\n",
    "$$ (bm3)\n",
    "\n",
    "Angle:\n",
    "\n",
    "$$\n",
    "    \\frac{h_1}{f_1} = \\theta_1\n",
    "$$ (a1)\n",
    "\n",
    "$$\n",
    "    \\theta_2 = \\frac{h_1}{f_2}\n",
    "$$ (a2)\n",
    "\n",
    "$$\n",
    "    \\frac{\\theta_2}{\\theta_1} = \\frac{f_1}{f_2}\n",
    "$$ (a3)\n"
   ]
  },
  {
   "cell_type": "code",
   "execution_count": null,
   "metadata": {},
   "outputs": [],
   "source": []
  }
 ],
 "metadata": {
  "language_info": {
   "name": "python"
  },
  "orig_nbformat": 4
 },
 "nbformat": 4,
 "nbformat_minor": 2
}

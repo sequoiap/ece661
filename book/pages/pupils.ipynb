{
 "cells": [
  {
   "attachments": {},
   "cell_type": "markdown",
   "metadata": {},
   "source": [
    "# Pupils"
   ]
  },
  {
   "attachments": {},
   "cell_type": "markdown",
   "metadata": {},
   "source": [
    "## Optical Design Terms\n",
    "\n",
    "Focal Length\n",
    "Diopter\n",
    "Magnification\n",
    "Virtual and real images\n",
    "Field of view (FOV)\n",
    "Depth of focus\n",
    "Depth of field\n",
    "Throw\n",
    "\n",
    "Aperture stop\n",
    "Field stop\n",
    "Pupils (entrance and exit)\n",
    "Principal planes\n",
    "Effective focal length (EFL)\n",
    "Back focal length (BFL)\n",
    "Front focal length (FFL)\n",
    "Numerical aperture\n",
    "F#\n",
    "\t\t\t\t\t\t\t\n",
    "Intensity\n",
    "Irradiance\n",
    "Power \n",
    "Accommodation\n",
    "\n",
    "Abbe number\n",
    "Vignetting\n",
    "Ray fans (Ray intercept plots)\n",
    "Field angles\n",
    "Spot diagrams\n",
    "Merit function\n",
    "Airy disk\n",
    "Optical path difference (OPD)\n",
    "Point spread function (PSF)\n",
    "Modulation transfer function (MTF)\n",
    "Strehl ratio"
   ]
  },
  {
   "attachments": {},
   "cell_type": "markdown",
   "metadata": {},
   "source": [
    "## Example Pupil\n",
    "\n",
    "A camera is built with three lenses with focal lengths:\n",
    "\n",
    "* F1=10mm\n",
    "* F2=20mm\n",
    "* F3=10mm\n",
    "\n",
    "The spacing between the lenses are:\n",
    "\n",
    "* X12=30mm\n",
    "* X23=30mm\n",
    "\n",
    "The sensor is a 12 megapixel CCD with a sensor size of 1 / 2.3 inch.\n",
    "\n",
    "1. What is the effective focal length of the camera in units of diopter?\n",
    "1. What is the field of view of the camera?\n",
    "1. The focus is set for an object distance of 20 meter.  What is the range of objects that remain in focus (called depth of field) if the aperture is set to f/2?\n",
    "1. The focus is set for an object distance of 0.1 meter.  What is the range of objects that remain in focus (called depth of field) if the aperture is set to f/2?\n",
    "1. The focus is set for an object distance of 20 meter.  What is the range of objects that remain in focus (called depth of field) if the aperture is set to f/20?\n",
    "1. The focus is set for an object distance of 0.1 meter.  What is the range of objects that remain in focus (called depth of field) if the aperture is set to f/20?\n",
    "1. The defining aperture is set between halfway between Lens 2 and Lens 3 and is set at 25 mm.  What is the entrance pupil and where is it?\n",
    "1. An aperture with a diameter of 1 mm is placed halfway between Lens 1 and Lens 2.  What is the effect on the system?"
   ]
  },
  {
   "attachments": {},
   "cell_type": "markdown",
   "metadata": {},
   "source": [
    "## The Human Eye\n",
    "\n",
    "You can [download the pdf for this page](https://github.com/sms276/ece661/blob/master/book/_static/files/eye.pdf)."
   ]
  },
  {
   "attachments": {},
   "cell_type": "markdown",
   "metadata": {},
   "source": [
    "## Aberration\n",
    "\n",
    "You can [download the pdf for this page](https://github.com/sms276/ece661/blob/master/book/_static/files/aberration.pdf)."
   ]
  },
  {
   "cell_type": "code",
   "execution_count": null,
   "metadata": {},
   "outputs": [],
   "source": []
  }
 ],
 "metadata": {
  "language_info": {
   "name": "python"
  },
  "orig_nbformat": 4
 },
 "nbformat": 4,
 "nbformat_minor": 2
}

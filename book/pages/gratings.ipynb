{
 "cells": [
  {
   "attachments": {},
   "cell_type": "markdown",
   "metadata": {},
   "source": [
    "# Gratings\n",
    "\n",
    "[gratings.pdf](https://github.com/sms276/ece661/blob/master/book/_static/files/gratings.pdf)\n",
    "\n",
    "[ln_antennas.pdf](https://github.com/sms276/ece661/blob/master/book/_static/files/ln_antennas.pdf)\n",
    "\n",
    "[ln_scalar_gf.pdf](https://github.com/sms276/ece661/blob/master/book/_static/files/ln_scalar_gf.pdf)"
   ]
  },
  {
   "cell_type": "code",
   "execution_count": null,
   "metadata": {},
   "outputs": [],
   "source": []
  }
 ],
 "metadata": {
  "language_info": {
   "name": "python"
  },
  "orig_nbformat": 4
 },
 "nbformat": 4,
 "nbformat_minor": 2
}

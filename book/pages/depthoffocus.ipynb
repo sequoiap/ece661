{
 "cells": [
  {
   "attachments": {},
   "cell_type": "markdown",
   "metadata": {},
   "source": [
    "# Depth of Focus\n",
    "\n",
    "You can [download the pdf for this page](https://github.com/sms276/ece661/blob/master/book/_static/files/DOF.pdf)."
   ]
  },
  {
   "attachments": {},
   "cell_type": "markdown",
   "metadata": {},
   "source": [
    "## Depth of Field\n",
    "\n",
    "![](https://github.com/sms276/ece661/blob/master/book/_static/images/depth_field.jpg?raw=true)"
   ]
  },
  {
   "cell_type": "code",
   "execution_count": null,
   "metadata": {},
   "outputs": [],
   "source": []
  }
 ],
 "metadata": {
  "language_info": {
   "name": "python"
  },
  "orig_nbformat": 4
 },
 "nbformat": 4,
 "nbformat_minor": 2
}

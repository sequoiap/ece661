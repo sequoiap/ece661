{
  "cells": [
    {
      "cell_type": "markdown",
      "metadata": {},
      "source": [
        "# Telescopes\n",
        "\n",
        "## Types of telescopes\n",
        "\n",
        "Object and image are both at infinity (collimated light in, collimated light out).\n",
        "\n",
        "There are 2 main configurations: Kepler, and Galilean (see {numref}`refractivetelescopes-fig`).\n",
        "\n",
        "```{figure} /_static/images/refractive_telescopes.png\n",
        "---\n",
        "name: refractivetelescopes-fig\n",
        "---\n",
        "Kepler vs Galilean telescopes.\n",
        "```\n",
        "\n",
        "In Kepler telescopes, both $f_1$ and $f_2$ are positive lenses with the distance between them $D = f_1 + f_2$. Galilean telescopes, on the other hand, have $f_1$ as a positive lens and $f_2$ as a negative lens. The distance $D$ between is still $D = f_1 + f_2$; in this case, however, the distance is shorter (since one of the lenses is negative). \n",
        "\n",
        "Since there is no focus, we will use angular magnification:\n",
        "\n",
        "\\begin{equation}\n",
        "    M_{ang} = \\frac{\\tan \\theta '}{\\tan \\theta} = - \\frac{F_1}{F_2}\n",
        "\\end{equation}\n",
        "\n",
        "Modern astronomical telescopes are actually really large cameras. The goal of a\n",
        "telescope is to separate two closely spaced, distant objects (such as two\n",
        "stars).\n",
        "\n",
        "Let's look at a circular aperture of an astronomical telescope. We'll model it \n",
        "as a single perfect lens.\n",
        "\n",
        "```{figure} /_static/images/perfectlens.svg\n",
        "---\n",
        "name: perfectlens-fig\n",
        "height: 200em\n",
        "---\n",
        "Single perfect lens.\n",
        "```\n",
        "\n",
        "At the focal plane:\n",
        "\n",
        "\\begin{align}\n",
        "    E(x,y) &= \\mathfrak{F} \\left. \\left\\{ \\mathrm{circ} \\left( \\frac{r}{D/2} \\right) \\right\\} \\right| _{f_r = r / \\lambda f} \\\\\n",
        "    &= E_0 \\left[ 2 \\frac{J_1 ( 2 \\pi \\frac{D}{2} f_x )}{ 2 \\pi \\frac{D}{2} f_x } \\right] \\\\\n",
        "    &= E_0 \\left[ 2 \\frac{J_1 ( 2 \\pi \\frac{D}{2} \\frac{r}{\\lambda f} )}{ 2 \\pi \\frac{D}{2} \\frac{r}{\\lambda f} } \\right]\n",
        "\\end{align}\n",
        "\n",
        "```{figure} /_static/images/telescopes1.png\n",
        "---\n",
        "name: telescopes1-fig\n",
        "height: 20em\n",
        "---\n",
        "```\n",
        "\n",
        "```{figure} /_static/images/telescopes2.png\n",
        "---\n",
        "name: telescopes2-fig\n",
        "---\n",
        "```\n",
        "\n",
        "```{figure} /_static/images/telescopes3.png\n",
        "---\n",
        "name: telescopes3-fig\n",
        "---\n",
        "```\n",
        "\n",
        "## Irradiance pattern\n",
        "\n",
        "The irradiance pattern is\n",
        "\n",
        "\\begin{equation}\n",
        "    I = I_0 \\left[ 2 \\frac{ J_1 ( \\pi D \\frac{r}{\\lambda f} ) }{ \\pi D \\frac{r}{\\lambda f}  } \\right] ^2\n",
        "\\end{equation}\n"
      ]
    },
    {
      "cell_type": "code",
      "execution_count": 7,
      "metadata": {
        "tags": [
          "hide-input"
        ]
      },
      "outputs": [
        {
          "data": {
            "image/png": "[encoded data removed]",
            "text/plain": [
              "<Figure size 720x432 with 1 Axes>"
            ]
          },
          "metadata": {
            "needs_background": "light"
          },
          "output_type": "display_data"
        }
      ],
      "source": [
        "import numpy as np\n",
        "from scipy.special import jv\n",
        "import matplotlib.pyplot as plt\n",
        "\n",
        "plt.subplots(figsize=(10,6))\n",
        "a = np.linspace(-4, 4, 1000)\n",
        "D = 2\n",
        "I0 = 1\n",
        "I = I0 * (2 * jv(1, D * a) / (D * a)) ** 2\n",
        "plt.plot(a, I)\n",
        "plt.title(\"Irradiance Pattern\")\n",
        "plt.xlabel(\"Position (au)\")\n",
        "plt.ylabel(\"Intensity (normalized)\")\n",
        "plt.grid()\n",
        "plt.show()"
      ]
    },
    {
      "cell_type": "markdown",
      "metadata": {},
      "source": [
        "What is the diameter of the central lobe?\n",
        "\n",
        "$$\n",
        "    J_1(3.832) = 0\n",
        "$$\n",
        "\n",
        "$$ \n",
        "    \\frac{\\pi}{\\lambda} \\frac{D}{f} r = 3.832\n",
        "$$\n",
        "\n",
        "\\begin{align}\n",
        "    r &= 3.832 \\frac{\\lambda}{\\pi} \\frac{f}{D} \\\\\n",
        "    &= \\frac{3.832}{\\pi} \\lambda \\frac{f}{D} \\\\\n",
        "    d = 2 r &= 2 \\left( \\frac{3.832}{\\pi} \\right) \\lambda f_\\# \\\\\n",
        "    d &= 2.44 \\lambda f_\\#\n",
        "\\end{align}\n",
        "\n",
        "This is called the Airy Disk."
      ]
    },
    {
      "cell_type": "markdown",
      "metadata": {},
      "source": [
        "What if the incident beam has a different angle?\n",
        "\n",
        "Plane wave equation:\n",
        "\n",
        "\\begin{equation}\n",
        "    E_i = \\exp [ j k (\\sin \\theta y + \\cos \\theta z)]\n",
        "\\end{equation}\n",
        "\n",
        "If we use $E_i = \\exp [j k \\sin \\theta y] = \\exp [j 2 \\pi \\frac{\\sin \\theta}{\\lambda} y]$:\n",
        "\n",
        "\\begin{equation}\n",
        "    E(x, y) = \\mathfrak{F} \\left. \\left\\{ \\exp[j k \\sin \\theta y] \\mathrm{circ} \\left( \\frac{r}{D / 2} \\right) \\right\\} \\right| _{f_r = r / \\lambda f} \\\\\n",
        "\\end{equation}\n",
        "\n",
        "The pattern is the same; it is just shifted by\n",
        "\n",
        "\\begin{align}\n",
        "    f_{x0} &= \\frac{\\sin \\theta}{y} \\\\\n",
        "    \\frac{y_0}{\\lambda f} &= \\frac{\\sin \\theta}{\\lambda} \\\\\n",
        "    y_0 &= \\sin \\theta f \\approx \\theta f\n",
        "\\end{align}\n",
        "\n",
        "This is the same as that predicted by the conjugate equation."
      ]
    },
    {
      "cell_type": "code",
      "execution_count": null,
      "metadata": {},
      "outputs": [],
      "source": []
    },
    {
      "cell_type": "markdown",
      "metadata": {},
      "source": [
        "## Rayleigh Criteria\n",
        "\n",
        "Rayleigh Criteria\n",
        ": Two incoherent point sources are \"barely resolved\" by a diffraction-limited system with a circular aperture when the center of the Airy disk of one point falls exactly on the first zero of the diffraction pattern.\n",
        "\n",
        "\\begin{align}\n",
        "    \\pi D \\frac{r}{\\lambda f} &= 3.83 \\\\  \n",
        "    r &= 1.22 \\lambda \\frac{f}{D} \\\\\n",
        "\\end{align}\n",
        "\n",
        "So, the resolvable separation is \n",
        "\n",
        "\\begin{align}\n",
        "    1.22 \\lambda \\frac{f}{D} &= f \\theta \\\\\n",
        "    \\theta &= 1.22 \\frac{\\lambda}{D}\n",
        "\\end{align}\n",
        "\n",
        "Hence, the angular resolution is better with a larger diameter.\n",
        "\n",
        "However, a standard ground telescope has a limit to the maximum resolution it can attain. This limitation is caused by turbulence in the air.\n",
        "\n",
        "See the following websites:\n",
        "\n",
        "* https://www.astronomynotes.com/telescop/s11.htm\n",
        "\n",
        "Low turbulence: $\\theta \\geq 0.5 \\mathrm{arcseconds}$  \n",
        "Higher turbulence: $\\theta \\geq 2 \\mathrm{arcseconds}$  \n",
        "\n",
        "Using visible light (550 nm), at low turbulence:\n",
        "\n",
        "$$\n",
        "    0.5 \\mathrm{arcseconds} = (0.5) \\frac{2 \\pi \\mathrm{rad}}{360 * 60 * 60} = 2.424 \\mu mathrm{rad}\n",
        "$$\n",
        "\n",
        "\\begin{align}\n",
        "    2.424 \\times 10^-6 &= \\frac{550 \\times 10^{-9}}{D} \\\\\n",
        "    D &= 0.22 m\n",
        "\\end{align}\n",
        "\n",
        "At high turbulence:\n",
        "\n",
        "\\begin{align}\n",
        "    D = \\frac{550 \\times 10^{-9}}{\\frac{(2)(2 \\pi)}{360 \\cdot 60 \\cdot 60}} = 0.0567 m\n",
        "\\end{align}"
      ]
    },
    {
      "cell_type": "code",
      "execution_count": null,
      "metadata": {},
      "outputs": [],
      "source": []
    },
    {
      "cell_type": "markdown",
      "metadata": {},
      "source": [
        "Some existing telescopes:\n",
        "\n",
        "| Telescope | Diameter | Min Separation | Year Constructed |\n",
        "| :--------: | :------: | :------------: | :----------------: |\n",
        "| Keck (Hawaii) | 10 m | $0.07 \\mu \\mathrm{rad}$ |  | \n",
        "| Gemini (Chile) | 8.1 m | $ 0.08 \\mu \\mathrm{rad}$ |  |\n",
        "| Bolshoi (Russia) | 6 m | $ 0.1 \\mu \\mathrm{rad}$ |  |\n",
        "| Mt. Wilson (California) | 1.5 m | $ 0.4 \\mu \\mathrm{rad}$ | 1908 |\n",
        "| Mt. Wilson (California) | 2.54 m | $0.26 \\mu \\mathrm{rad}$ | 1917 |\n",
        "| Mt. Wilson (California) | 5.08 m | $0.13 \\mu \\mathrm{rad}$ | 1949 |\n",
        "| Yerkes (Wisconsin) | 1.01 m | $0.66 \\mu \\mathrm{rad}$ | 1895 |\n",
        "\n",
        "All of these telescopes would be limited to $\\Delta \\theta = 2.4 \\mu \\mathrm{rad}$ or a diameter of 0.22 m or 8.7 in.\n",
        "\n",
        "Telescopes have a large diameter for greater light collection, rather than resolution."
      ]
    },
    {
      "cell_type": "markdown",
      "metadata": {},
      "source": []
    }
  ],
  "metadata": {
    "celltoolbar": "Tags",
    "interpreter": {
      "hash": "1e5aa43f0d996b212007e0653359935d560803e088169bddc54361870be89642"
    },
    "kernelspec": {
      "display_name": "Python 3",
      "language": "python",
      "name": "python3"
    },
    "language_info": {
      "codemirror_mode": {
        "name": "ipython",
        "version": 3
      },
      "file_extension": ".py",
      "mimetype": "text/x-python",
      "name": "python",
      "nbconvert_exporter": "python",
      "pygments_lexer": "ipython3",
      "version": "3.7.13"
    }
  },
  "nbformat": 4,
  "nbformat_minor": 2
}